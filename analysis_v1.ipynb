{
 "cells": [
  {
   "cell_type": "code",
   "execution_count": 3,
   "id": "b988246e-0d1a-4d58-a264-ea442e48206b",
   "metadata": {},
   "outputs": [],
   "source": [
    "import pandas as pd\n",
    "import numpy as np\n",
    "import statistics\n",
    "import matplotlib.pyplot as plt\n",
    "from sklearn.model_selection import train_test_split\n",
    "from sklearn.linear_model import LinearRegression\n",
    "from sklearn.metrics import mean_squared_error, r2_score\n",
    "from sklearn.ensemble import RandomForestClassifier\n",
    "from sklearn.metrics import accuracy_score, classification_report, confusion_matrix"
   ]
  },
  {
   "cell_type": "code",
   "execution_count": 4,
   "id": "ffa4188c-d1d9-455f-9aee-60525f7a72b9",
   "metadata": {},
   "outputs": [],
   "source": [
    "data = pd.read_csv(\"4-wheeler-EV-carwale.csv\")#reading the dataset"
   ]
  },
  {
   "cell_type": "code",
   "execution_count": 5,
   "id": "4462147d-7647-4a78-9f61-3e6104a84058",
   "metadata": {},
   "outputs": [
    {
     "data": {
      "text/html": [
       "<div>\n",
       "<style scoped>\n",
       "    .dataframe tbody tr th:only-of-type {\n",
       "        vertical-align: middle;\n",
       "    }\n",
       "\n",
       "    .dataframe tbody tr th {\n",
       "        vertical-align: top;\n",
       "    }\n",
       "\n",
       "    .dataframe thead th {\n",
       "        text-align: right;\n",
       "    }\n",
       "</style>\n",
       "<table border=\"1\" class=\"dataframe\">\n",
       "  <thead>\n",
       "    <tr style=\"text-align: right;\">\n",
       "      <th></th>\n",
       "      <th>review</th>\n",
       "      <th>Exterior</th>\n",
       "      <th>Comfort</th>\n",
       "      <th>Performance</th>\n",
       "      <th>Fuel Economy</th>\n",
       "      <th>Value for Money</th>\n",
       "      <th>Condition</th>\n",
       "      <th>driven</th>\n",
       "      <th>rating</th>\n",
       "      <th>model_name</th>\n",
       "    </tr>\n",
       "  </thead>\n",
       "  <tbody>\n",
       "    <tr>\n",
       "      <th>0</th>\n",
       "      <td>Superb car like as fantastic as petroleum car....</td>\n",
       "      <td>5</td>\n",
       "      <td>4</td>\n",
       "      <td>5</td>\n",
       "      <td>5</td>\n",
       "      <td>5</td>\n",
       "      <td>New</td>\n",
       "      <td>Few hundred kilometers</td>\n",
       "      <td>5</td>\n",
       "      <td>hyundai kona</td>\n",
       "    </tr>\n",
       "    <tr>\n",
       "      <th>1</th>\n",
       "      <td>Anti national, worst service, worst customer c...</td>\n",
       "      <td>1</td>\n",
       "      <td>1</td>\n",
       "      <td>1</td>\n",
       "      <td>1</td>\n",
       "      <td>1</td>\n",
       "      <td>New</td>\n",
       "      <td>Haven't driven it</td>\n",
       "      <td>0</td>\n",
       "      <td>hyundai kona</td>\n",
       "    </tr>\n",
       "    <tr>\n",
       "      <th>2</th>\n",
       "      <td>Super happy with it. The car is too good</td>\n",
       "      <td>4</td>\n",
       "      <td>5</td>\n",
       "      <td>5</td>\n",
       "      <td>5</td>\n",
       "      <td>4</td>\n",
       "      <td>New</td>\n",
       "      <td>Few thousand kilometers</td>\n",
       "      <td>5</td>\n",
       "      <td>hyundai kona</td>\n",
       "    </tr>\n",
       "    <tr>\n",
       "      <th>3</th>\n",
       "      <td>Pretty good car, smooth as a glider fast car, ...</td>\n",
       "      <td>5</td>\n",
       "      <td>5</td>\n",
       "      <td>5</td>\n",
       "      <td>5</td>\n",
       "      <td>5</td>\n",
       "      <td>New</td>\n",
       "      <td>Few thousand kilometers</td>\n",
       "      <td>5</td>\n",
       "      <td>hyundai kona</td>\n",
       "    </tr>\n",
       "    <tr>\n",
       "      <th>4</th>\n",
       "      <td>Price difference between petrol and electronic...</td>\n",
       "      <td>4</td>\n",
       "      <td>4</td>\n",
       "      <td>5</td>\n",
       "      <td>3</td>\n",
       "      <td>2</td>\n",
       "      <td>Not Purchased</td>\n",
       "      <td>Haven't driven it</td>\n",
       "      <td>3</td>\n",
       "      <td>hyundai kona</td>\n",
       "    </tr>\n",
       "  </tbody>\n",
       "</table>\n",
       "</div>"
      ],
      "text/plain": [
       "                                              review  Exterior  Comfort  \\\n",
       "0  Superb car like as fantastic as petroleum car....         5        4   \n",
       "1  Anti national, worst service, worst customer c...         1        1   \n",
       "2           Super happy with it. The car is too good         4        5   \n",
       "3  Pretty good car, smooth as a glider fast car, ...         5        5   \n",
       "4  Price difference between petrol and electronic...         4        4   \n",
       "\n",
       "   Performance  Fuel Economy  Value for Money      Condition  \\\n",
       "0            5             5                5            New   \n",
       "1            1             1                1            New   \n",
       "2            5             5                4            New   \n",
       "3            5             5                5            New   \n",
       "4            5             3                2  Not Purchased   \n",
       "\n",
       "                    driven  rating    model_name  \n",
       "0   Few hundred kilometers       5  hyundai kona  \n",
       "1        Haven't driven it       0  hyundai kona  \n",
       "2  Few thousand kilometers       5  hyundai kona  \n",
       "3  Few thousand kilometers       5  hyundai kona  \n",
       "4        Haven't driven it       3  hyundai kona  "
      ]
     },
     "execution_count": 5,
     "metadata": {},
     "output_type": "execute_result"
    }
   ],
   "source": [
    "data.head()"
   ]
  },
  {
   "cell_type": "code",
   "execution_count": 6,
   "id": "d0a360b1-dc0e-45d9-b89a-ec1c42f1da17",
   "metadata": {},
   "outputs": [
    {
     "data": {
      "text/html": [
       "<div>\n",
       "<style scoped>\n",
       "    .dataframe tbody tr th:only-of-type {\n",
       "        vertical-align: middle;\n",
       "    }\n",
       "\n",
       "    .dataframe tbody tr th {\n",
       "        vertical-align: top;\n",
       "    }\n",
       "\n",
       "    .dataframe thead th {\n",
       "        text-align: right;\n",
       "    }\n",
       "</style>\n",
       "<table border=\"1\" class=\"dataframe\">\n",
       "  <thead>\n",
       "    <tr style=\"text-align: right;\">\n",
       "      <th></th>\n",
       "      <th>review</th>\n",
       "      <th>Exterior</th>\n",
       "      <th>Comfort</th>\n",
       "      <th>Performance</th>\n",
       "      <th>Fuel_Economy</th>\n",
       "      <th>vof</th>\n",
       "      <th>Condition</th>\n",
       "      <th>driven</th>\n",
       "      <th>rating</th>\n",
       "      <th>model_name</th>\n",
       "    </tr>\n",
       "  </thead>\n",
       "  <tbody>\n",
       "    <tr>\n",
       "      <th>0</th>\n",
       "      <td>Superb car like as fantastic as petroleum car....</td>\n",
       "      <td>5</td>\n",
       "      <td>4</td>\n",
       "      <td>5</td>\n",
       "      <td>5</td>\n",
       "      <td>5</td>\n",
       "      <td>New</td>\n",
       "      <td>Few hundred kilometers</td>\n",
       "      <td>5</td>\n",
       "      <td>hyundai kona</td>\n",
       "    </tr>\n",
       "    <tr>\n",
       "      <th>1</th>\n",
       "      <td>Anti national, worst service, worst customer c...</td>\n",
       "      <td>1</td>\n",
       "      <td>1</td>\n",
       "      <td>1</td>\n",
       "      <td>1</td>\n",
       "      <td>1</td>\n",
       "      <td>New</td>\n",
       "      <td>Haven't driven it</td>\n",
       "      <td>0</td>\n",
       "      <td>hyundai kona</td>\n",
       "    </tr>\n",
       "    <tr>\n",
       "      <th>2</th>\n",
       "      <td>Super happy with it. The car is too good</td>\n",
       "      <td>4</td>\n",
       "      <td>5</td>\n",
       "      <td>5</td>\n",
       "      <td>5</td>\n",
       "      <td>4</td>\n",
       "      <td>New</td>\n",
       "      <td>Few thousand kilometers</td>\n",
       "      <td>5</td>\n",
       "      <td>hyundai kona</td>\n",
       "    </tr>\n",
       "    <tr>\n",
       "      <th>3</th>\n",
       "      <td>Pretty good car, smooth as a glider fast car, ...</td>\n",
       "      <td>5</td>\n",
       "      <td>5</td>\n",
       "      <td>5</td>\n",
       "      <td>5</td>\n",
       "      <td>5</td>\n",
       "      <td>New</td>\n",
       "      <td>Few thousand kilometers</td>\n",
       "      <td>5</td>\n",
       "      <td>hyundai kona</td>\n",
       "    </tr>\n",
       "    <tr>\n",
       "      <th>4</th>\n",
       "      <td>Price difference between petrol and electronic...</td>\n",
       "      <td>4</td>\n",
       "      <td>4</td>\n",
       "      <td>5</td>\n",
       "      <td>3</td>\n",
       "      <td>2</td>\n",
       "      <td>Not Purchased</td>\n",
       "      <td>Haven't driven it</td>\n",
       "      <td>3</td>\n",
       "      <td>hyundai kona</td>\n",
       "    </tr>\n",
       "  </tbody>\n",
       "</table>\n",
       "</div>"
      ],
      "text/plain": [
       "                                              review  Exterior  Comfort  \\\n",
       "0  Superb car like as fantastic as petroleum car....         5        4   \n",
       "1  Anti national, worst service, worst customer c...         1        1   \n",
       "2           Super happy with it. The car is too good         4        5   \n",
       "3  Pretty good car, smooth as a glider fast car, ...         5        5   \n",
       "4  Price difference between petrol and electronic...         4        4   \n",
       "\n",
       "   Performance  Fuel_Economy  vof      Condition                   driven  \\\n",
       "0            5             5    5            New   Few hundred kilometers   \n",
       "1            1             1    1            New        Haven't driven it   \n",
       "2            5             5    4            New  Few thousand kilometers   \n",
       "3            5             5    5            New  Few thousand kilometers   \n",
       "4            5             3    2  Not Purchased        Haven't driven it   \n",
       "\n",
       "   rating    model_name  \n",
       "0       5  hyundai kona  \n",
       "1       0  hyundai kona  \n",
       "2       5  hyundai kona  \n",
       "3       5  hyundai kona  \n",
       "4       3  hyundai kona  "
      ]
     },
     "execution_count": 6,
     "metadata": {},
     "output_type": "execute_result"
    }
   ],
   "source": [
    "data = data.rename(columns={'Fuel Economy': 'Fuel_Economy'})\n",
    "data = data.rename(columns={'Value for Money': 'vof'})\n",
    "data.head()"
   ]
  },
  {
   "cell_type": "code",
   "execution_count": 7,
   "id": "255c53c7-4003-48a1-8089-55e25d3d84fe",
   "metadata": {},
   "outputs": [
    {
     "data": {
      "text/plain": [
       "['hyundai kona', 'tata nexon ev', 'tata tigor ev']"
      ]
     },
     "execution_count": 7,
     "metadata": {},
     "output_type": "execute_result"
    }
   ],
   "source": [
    "model_num_list = []\n",
    "for val in data['model_name'].unique():\n",
    "    model_num_list.append(val)\n",
    "model_num_list"
   ]
  },
  {
   "cell_type": "code",
   "execution_count": 8,
   "id": "f6cd5f4c-5df6-4a89-93a3-36e9e24a4e00",
   "metadata": {},
   "outputs": [
    {
     "data": {
      "image/png": "[encoded data removed]",
      "text/plain": [
       "<Figure size 640x480 with 1 Axes>"
      ]
     },
     "metadata": {},
     "output_type": "display_data"
    }
   ],
   "source": [
    "# Count the occurrences of items in the list within the dataset\n",
    "counts = [data[data['model_name'] == item]['model_name'].count() for item in model_num_list]\n",
    "\n",
    "# Create a bar chart\n",
    "fig, ax = plt.subplots()\n",
    "plt.bar(model_num_list, counts)\n",
    "bar_labels = ['red', 'blue', 'orange']\n",
    "bar_colors = ['tab:red', 'tab:blue', 'tab:orange']\n",
    "ax.bar(model_num_list, counts, label=bar_labels, color=bar_colors)\n",
    "# Add labels and a title\n",
    "ax.set_ylabel('count')\n",
    "ax.set_title('Count of each model in the EV dataset')\n",
    "\n",
    "# Show the plot\n",
    "plt.show()"
   ]
  },
  {
   "cell_type": "code",
   "execution_count": 9,
   "id": "43bbcd1f-98de-4bff-9470-c93d683bbf59",
   "metadata": {},
   "outputs": [
    {
     "name": "stdout",
     "output_type": "stream",
     "text": [
      "[4.5, 4.323529411764706, 4.529411764705882, 4.5588235294117645, 4.088235294117647, 4.4411764705882355, 4.533333333333333, 4.52, 4.493333333333333, 4.453333333333333, 4.293333333333333, 4.453333333333333, 4.2, 4.2, 3.95, 4.05, 3.8, 3.75]\n"
     ]
    }
   ],
   "source": [
    "#Each car models mean values\n",
    "x=[]\n",
    "for i in model_num_list:\n",
    "    Exterior= []\t\n",
    "    Fuel_Economy = []\n",
    "    Value_for_Money = []\n",
    "    rating = []\n",
    "    comfort = []\n",
    "    performance = []\n",
    "    for index, row in data.iterrows():\n",
    "        if(row['model_name'] == i):\n",
    "            Exterior.append(row['Exterior'])\n",
    "            Fuel_Economy.append(row['Fuel_Economy'])\n",
    "            Value_for_Money.append(row['vof'])\n",
    "            rating.append(row['rating'])\n",
    "            comfort.append(row['Comfort'])\n",
    "            performance.append(row['Performance'])\n",
    "    x.append(statistics.mean(Exterior))\n",
    "    x.append(statistics.mean(comfort))\n",
    "    x.append(statistics.mean(performance))\n",
    "    x.append(statistics.mean(Fuel_Economy))\n",
    "    x.append(statistics.mean(Value_for_Money))\n",
    "    x.append((statistics.mean(rating)))\n",
    "print(x)"
   ]
  },
  {
   "cell_type": "code",
   "execution_count": 10,
   "id": "670b32a3-f578-4806-8ef9-193451fb47e5",
   "metadata": {},
   "outputs": [
    {
     "name": "stdout",
     "output_type": "stream",
     "text": [
      "[[4.5        4.53333333 4.2       ]\n",
      " [4.32352941 4.52       4.2       ]\n",
      " [4.52941176 4.49333333 3.95      ]\n",
      " [4.55882353 4.45333333 4.05      ]\n",
      " [4.08823529 4.29333333 3.8       ]\n",
      " [4.44117647 4.45333333 3.75      ]]\n"
     ]
    }
   ],
   "source": [
    "mean_values = np.array(x)\n",
    "mean_values = mean_values.reshape(3,6)\n",
    "mean_values = mean_values.T\n",
    "print(mean_values)\n",
    "mean_values = np.split(mean_values,[3,6,9,12,15])"
   ]
  },
  {
   "cell_type": "code",
   "execution_count": 11,
   "id": "984d38d8-07b6-4fa1-b179-204ffa0f84e6",
   "metadata": {},
   "outputs": [
    {
     "name": "stdout",
     "output_type": "stream",
     "text": [
      "[array([[4.5       , 4.53333333, 4.2       ],\n",
      "       [4.32352941, 4.52      , 4.2       ],\n",
      "       [4.52941176, 4.49333333, 3.95      ]]), array([[4.55882353, 4.45333333, 4.05      ],\n",
      "       [4.08823529, 4.29333333, 3.8       ],\n",
      "       [4.44117647, 4.45333333, 3.75      ]]), array([], shape=(0, 3), dtype=float64), array([], shape=(0, 3), dtype=float64), array([], shape=(0, 3), dtype=float64), array([], shape=(0, 3), dtype=float64)]\n"
     ]
    }
   ],
   "source": [
    "print(mean_values)"
   ]
  },
  {
   "cell_type": "code",
   "execution_count": 12,
   "id": "46e8abf6-967a-4b94-a989-ed6b77519438",
   "metadata": {},
   "outputs": [
    {
     "data": {
      "image/png": "[encoded data removed]",
      "text/plain": [
       "<Figure size 1000x1000 with 1 Axes>"
      ]
     },
     "metadata": {},
     "output_type": "display_data"
    }
   ],
   "source": [
    "import matplotlib.pyplot as plt\n",
    "import numpy as np\n",
    "\n",
    "# Sample data for six variables\n",
    "categories = model_num_list\n",
    "variable1 = mean_values[0][0]\n",
    "variable2 = mean_values[0][1]\n",
    "variable3 = mean_values[0][2]\n",
    "variable4 = mean_values[1][0]\n",
    "variable5 = mean_values[1][1]\n",
    "variable6 = mean_values[1][2]\n",
    "\n",
    "# Define the width of each bar\n",
    "bar_width = 0.1\n",
    "\n",
    "# Create an array for the x-axis positions of each category\n",
    "x = np.arange(len(categories))\n",
    "\n",
    "# Create the grouped bar chart\n",
    "plt.figure(figsize=(10, 10))\n",
    "\n",
    "plt.bar(x - 3*bar_width, variable1, width=bar_width, label='Exterior', align='center')\n",
    "plt.bar(x - 2*bar_width, variable2, width=bar_width, label='Comfort', align='center')\n",
    "plt.bar(x - bar_width, variable3, width=bar_width, label='Performance', align='center')\n",
    "plt.bar(x, variable4, width=bar_width, label='Fuel Economy', align='center')\n",
    "plt.bar(x + bar_width, variable5, width=bar_width, label='Value for money', align='center')\n",
    "plt.bar(x + 2*bar_width, variable6, width=bar_width, label='Rating', align='center')\n",
    "\n",
    "# Add labels and a legend\n",
    "plt.xlabel('Categories')\n",
    "plt.ylabel('Mean Values')\n",
    "plt.title('mean values of each car model')\n",
    "plt.xticks(x, categories)\n",
    "plt.legend()\n",
    "\n",
    "# Show the plot\n",
    "plt.show()"
   ]
  },
  {
   "cell_type": "code",
   "execution_count": 13,
   "id": "94b905f4-4315-4c05-905a-1dfce1c967ce",
   "metadata": {},
   "outputs": [
    {
     "name": "stdout",
     "output_type": "stream",
     "text": [
      "Total unique values in the selected row: model_name    3\n",
      "dtype: int64\n"
     ]
    }
   ],
   "source": [
    "# saving columns Name and Team into df_new\n",
    "df_new = data[['model_name']].copy()\n",
    "\n",
    "#print (df_new)\n",
    "selected_row = df_new\n",
    "\n",
    "# Use nunique() to count unique values in the selected row\n",
    "unique_values_count = selected_row.nunique()\n",
    "\n",
    "print(f\"Total unique values in the selected row: {unique_values_count}\")"
   ]
  },
  {
   "cell_type": "code",
   "execution_count": 14,
   "id": "708b25a6-4195-4db8-be59-179170621d96",
   "metadata": {},
   "outputs": [],
   "source": [
    "#analysis for the rating prediction\n",
    "X = data.drop([\"rating\",\"review\",\"Condition\",\"driven\",\"model_name\"], axis=1)  # Features\n",
    "y = data[\"rating\"]  # Target variable"
   ]
  },
  {
   "cell_type": "code",
   "execution_count": 16,
   "id": "3563bb82-e740-4e35-9aec-d73487e695de",
   "metadata": {},
   "outputs": [
    {
     "name": "stdout",
     "output_type": "stream",
     "text": [
      "Mean Squared Error: 1.4831301642349226\n",
      "R-squared: 0.44082766814121155\n"
     ]
    }
   ],
   "source": [
    "X_train, X_test, y_train, y_test = train_test_split(X, y, test_size=0.2, random_state=42)\n",
    "model = LinearRegression()\n",
    "model.fit(X_train, y_train)\n",
    "y_pred = model.predict(X_test)\n",
    "mse = mean_squared_error(y_test, y_pred)\n",
    "r2 = r2_score(y_test, y_pred)\n",
    "print(\"Mean Squared Error:\", mse)\n",
    "print(\"R-squared:\", r2)\n",
    "#can be used furthur with a ev car's Exterior,Comfort,Performance,Fuel Economy,Value for Money to find the rating using predict function"
   ]
  },
  {
   "cell_type": "code",
   "execution_count": 206,
   "id": "3fc7d854-e3d0-497b-9b5b-d9c59376b15b",
   "metadata": {},
   "outputs": [
    {
     "name": "stdout",
     "output_type": "stream",
     "text": [
      "Accuracy: 0.65\n",
      "              precision    recall  f1-score   support\n",
      "\n",
      "           0       0.50      0.67      0.57         3\n",
      "           2       0.00      0.00      0.00         1\n",
      "           3       0.00      0.00      0.00         2\n",
      "           4       0.00      0.00      0.00         5\n",
      "           5       0.71      1.00      0.83        15\n",
      "\n",
      "    accuracy                           0.65        26\n",
      "   macro avg       0.24      0.33      0.28        26\n",
      "weighted avg       0.47      0.65      0.55        26\n",
      "\n",
      "[[ 2  0  0  0  1]\n",
      " [ 1  0  0  0  0]\n",
      " [ 0  0  0  1  1]\n",
      " [ 1  0  0  0  4]\n",
      " [ 0  0  0  0 15]]\n"
     ]
    },
    {
     "name": "stderr",
     "output_type": "stream",
     "text": [
      "C:\\Users\\prath\\AppData\\Local\\Programs\\Python\\Python311\\Lib\\site-packages\\sklearn\\metrics\\_classification.py:1469: UndefinedMetricWarning: Precision and F-score are ill-defined and being set to 0.0 in labels with no predicted samples. Use `zero_division` parameter to control this behavior.\n",
      "  _warn_prf(average, modifier, msg_start, len(result))\n",
      "C:\\Users\\prath\\AppData\\Local\\Programs\\Python\\Python311\\Lib\\site-packages\\sklearn\\metrics\\_classification.py:1469: UndefinedMetricWarning: Precision and F-score are ill-defined and being set to 0.0 in labels with no predicted samples. Use `zero_division` parameter to control this behavior.\n",
      "  _warn_prf(average, modifier, msg_start, len(result))\n",
      "C:\\Users\\prath\\AppData\\Local\\Programs\\Python\\Python311\\Lib\\site-packages\\sklearn\\metrics\\_classification.py:1469: UndefinedMetricWarning: Precision and F-score are ill-defined and being set to 0.0 in labels with no predicted samples. Use `zero_division` parameter to control this behavior.\n",
      "  _warn_prf(average, modifier, msg_start, len(result))\n"
     ]
    }
   ],
   "source": [
    "#attempt for random forest classification as rating has the possibility to fall under only 6 category with respect to performance\n",
    "import pandas as pd\n",
    "\n",
    "\n",
    "X = data.drop([\"rating\",\"review\",\"Condition\",\"driven\",\"model_name\"], axis=1)  # Features\n",
    "y = data[\"rating\"]  # Target variable\n",
    "\n",
    "# Split the dataset into training and testing sets (e.g., 80% training, 20% testing)\n",
    "X_train, X_test, y_train, y_test = train_test_split(X, y, test_size=0.2, random_state=42)\n",
    "\n",
    "# Create a Random Forest Classifier\n",
    "rf_classifier = RandomForestClassifier(n_estimators=100, random_state=42)\n",
    "\n",
    "# Fit the model on the training data\n",
    "rf_classifier.fit(X_train, y_train)\n",
    "\n",
    "# Make predictions on the test data\n",
    "y_pred = rf_classifier.predict(X_test)\n",
    "\n",
    "# Evaluate the accuracy of the model\n",
    "accuracy = accuracy_score(y_test, y_pred)\n",
    "print(f'Accuracy: {accuracy:.2f}')\n",
    "\n",
    "# You can also print a classification report and confusion matrix for more details\n",
    "print(classification_report(y_test, y_pred))\n",
    "print(confusion_matrix(y_test, y_pred))"
   ]
  },
  {
   "cell_type": "code",
   "execution_count": 207,
   "id": "4a0b34ba-3b2d-4755-9c9b-3b5eae091315",
   "metadata": {},
   "outputs": [],
   "source": [
    "#random forest requires more data for increased accuracy"
   ]
  },
  {
   "cell_type": "code",
   "execution_count": null,
   "id": "3e8d0b15-d00a-4cf4-8568-851ef462d483",
   "metadata": {},
   "outputs": [],
   "source": [
    "#the dataset might have a bias as Count of each model in the \n",
    "#EV dataset is not evenly spread across the entire dataset.\n",
    "#From the two models done above we can say that regression\n",
    "# type models are far more accurate and efficient compared\n",
    "# to classification models as for the outcomes and the input\n",
    "# values are more linearly tied in nature."
   ]
  }
 ],
 "metadata": {
  "kernelspec": {
   "display_name": "Python 3 (ipykernel)",
   "language": "python",
   "name": "python3"
  },
  "language_info": {
   "codemirror_mode": {
    "name": "ipython",
    "version": 3
   },
   "file_extension": ".py",
   "mimetype": "text/x-python",
   "name": "python",
   "nbconvert_exporter": "python",
   "pygments_lexer": "ipython3",
   "version": "3.11.4"
  }
 },
 "nbformat": 4,
 "nbformat_minor": 5
}
